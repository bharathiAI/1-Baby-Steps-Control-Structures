{
 "cells": [
  {
   "cell_type": "code",
   "execution_count": 1,
   "metadata": {},
   "outputs": [
    {
     "name": "stdout",
     "output_type": "stream",
     "text": [
      "Welcome to Assignment-1\n"
     ]
    }
   ],
   "source": [
    "print(\"Welcome to Assignment-1\")"
   ]
  },
  {
   "cell_type": "code",
   "execution_count": 2,
   "metadata": {},
   "outputs": [
    {
     "name": "stdout",
     "output_type": "stream",
     "text": [
      "Num1=10\n",
      "Num2=30\n",
      "Add=40\n"
     ]
    }
   ],
   "source": [
    "print(\"Num1=10\")\n",
    "print(\"Num2=30\")\n",
    "print(\"Add=40\")"
   ]
  },
  {
   "cell_type": "code",
   "execution_count": 3,
   "metadata": {},
   "outputs": [
    {
     "name": "stdout",
     "output_type": "stream",
     "text": [
      "Num1:10\n",
      "Num2:30\n",
      "Add: 40\n"
     ]
    }
   ],
   "source": [
    "number1=int(input(\"Num1:\"))\n",
    "number2=int(input(\"Num2:\"))\n",
    "addition=number1+number2\n",
    "print(\"Add:\",addition)"
   ]
  },
  {
   "cell_type": "code",
   "execution_count": 4,
   "metadata": {},
   "outputs": [],
   "source": [
    "#Body mass index"
   ]
  },
  {
   "cell_type": "code",
   "execution_count": 5,
   "metadata": {},
   "outputs": [
    {
     "name": "stdout",
     "output_type": "stream",
     "text": [
      "Enter the BMI Index:34\n",
      "very over weight\n"
     ]
    }
   ],
   "source": [
    "bmi=int(input(\"Enter the BMI Index:\"))\n",
    "if(bmi<18):\n",
    "    print(\"underweight\")\n",
    "elif(bmi<25):\n",
    "    print(\"Normal\")\n",
    "elif(bmi<30):\n",
    "    print(\"overweight\")\n",
    "else:\n",
    "    print(\"very over weight\")\n"
   ]
  },
  {
   "cell_type": "code",
   "execution_count": 25,
   "metadata": {},
   "outputs": [
    {
     "name": "stdout",
     "output_type": "stream",
     "text": [
      "Enter the BMI Index:29\n",
      "overweight\n"
     ]
    }
   ],
   "source": [
    "bmi=int(input(\"Enter the BMI Index:\"))\n",
    "if(bmi<18):\n",
    "    print(\"underweight\")\n",
    "elif(bmi<25):\n",
    "    print(\"Normal\")\n",
    "elif(bmi<30):\n",
    "    print(\"overweight\")\n",
    "else:\n",
    "    print(\"very over weight\")"
   ]
  },
  {
   "cell_type": "code",
   "execution_count": null,
   "metadata": {},
   "outputs": [],
   "source": []
  }
 ],
 "metadata": {
  "kernelspec": {
   "display_name": "Python 3",
   "language": "python",
   "name": "python3"
  },
  "language_info": {
   "codemirror_mode": {
    "name": "ipython",
    "version": 3
   },
   "file_extension": ".py",
   "mimetype": "text/x-python",
   "name": "python",
   "nbconvert_exporter": "python",
   "pygments_lexer": "ipython3",
   "version": "3.7.4"
  }
 },
 "nbformat": 4,
 "nbformat_minor": 2
}
